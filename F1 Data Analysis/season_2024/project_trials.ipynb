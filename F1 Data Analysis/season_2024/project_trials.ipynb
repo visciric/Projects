{
 "cells": [
  {
   "cell_type": "code",
   "execution_count": 6,
   "metadata": {},
   "outputs": [],
   "source": [
    "import numpy as np\n",
    "import fastf1 as ff1\n",
    "import fastf1.plotting\n",
    "import pandas as pd\n",
    "import matplotlib.pyplot as plt\n",
    "from fastf1.core import Laps\n",
    "from timple.timedelta import strftimedelta\n",
    "from matplotlib.collections import LineCollection\n",
    "import matplotlib as mpl\n",
    "\n",
    "\n",
    "fastf1.plotting.setup_mpl()\n",
    "import sys\n",
    "import warnings\n",
    "warnings.filterwarnings(\"ignore\")"
   ]
  },
  {
   "cell_type": "code",
   "execution_count": 7,
   "metadata": {},
   "outputs": [
    {
     "name": "stdout",
     "output_type": "stream",
     "text": [
      "CACHE_FOLDER_PATH: C:\\Users\\ricca\\OneDrive - ZHAW\\Dokumente\\f1_cache\n"
     ]
    }
   ],
   "source": [
    "sys.path.insert(0, \"../\")\n",
    "from settings import CACHE_FOLDER_PATH\n",
    "from utlis import *"
   ]
  },
  {
   "cell_type": "code",
   "execution_count": 8,
   "metadata": {},
   "outputs": [],
   "source": [
    "setup_cache(CACHE_FOLDER_PATH)"
   ]
  },
  {
   "cell_type": "code",
   "execution_count": 45,
   "metadata": {},
   "outputs": [
    {
     "name": "stderr",
     "output_type": "stream",
     "text": [
      "core           INFO \tLoading data for Saudi Arabian Grand Prix - Race [v3.3.2]\n",
      "req            INFO \tUsing cached data for session_info\n",
      "req            INFO \tUsing cached data for driver_info\n",
      "req            INFO \tUsing cached data for session_status_data\n",
      "req            INFO \tUsing cached data for lap_count\n",
      "req            INFO \tUsing cached data for track_status_data\n",
      "req            INFO \tUsing cached data for _extended_timing_data\n",
      "req            INFO \tUsing cached data for timing_app_data\n",
      "core           INFO \tProcessing timing data...\n",
      "req            INFO \tUsing cached data for car_data\n",
      "req            INFO \tUsing cached data for position_data\n",
      "req            INFO \tUsing cached data for weather_data\n",
      "req            INFO \tUsing cached data for race_control_messages\n",
      "core           INFO \tFinished loading data for 20 drivers: ['1', '11', '16', '81', '14', '63', '38', '4', '44', '27', '23', '20', '31', '2', '22', '3', '77', '24', '18', '10']\n"
     ]
    }
   ],
   "source": [
    "session = fastf1.get_session(2024, 'Jeddah', 'R')\n",
    "session.load()"
   ]
  },
  {
   "cell_type": "code",
   "execution_count": 66,
   "metadata": {},
   "outputs": [
    {
     "data": {
      "text/plain": [
       "{'DriverNumber': str,\n",
       " 'BroadcastName': str,\n",
       " 'Abbreviation': str,\n",
       " 'DriverId': str,\n",
       " 'TeamName': str,\n",
       " 'TeamColor': str,\n",
       " 'TeamId': str,\n",
       " 'FirstName': str,\n",
       " 'LastName': str,\n",
       " 'FullName': str,\n",
       " 'HeadshotUrl': str,\n",
       " 'CountryCode': str,\n",
       " 'Position': 'float64',\n",
       " 'ClassifiedPosition': str,\n",
       " 'GridPosition': 'float64',\n",
       " 'Q1': 'timedelta64[ns]',\n",
       " 'Q2': 'timedelta64[ns]',\n",
       " 'Q3': 'timedelta64[ns]',\n",
       " 'Time': 'timedelta64[ns]',\n",
       " 'Status': str,\n",
       " 'Points': 'float64'}"
      ]
     },
     "execution_count": 66,
     "metadata": {},
     "output_type": "execute_result"
    }
   ],
   "source": [
    "laps = session.laps\n",
    "results = session.results\n",
    "results._COL_TYPES"
   ]
  },
  {
   "cell_type": "code",
   "execution_count": null,
   "metadata": {},
   "outputs": [],
   "source": [
    "session.results."
   ]
  },
  {
   "cell_type": "code",
   "execution_count": 73,
   "metadata": {},
   "outputs": [
    {
     "data": {
      "text/html": [
       "<div>\n",
       "<style scoped>\n",
       "    .dataframe tbody tr th:only-of-type {\n",
       "        vertical-align: middle;\n",
       "    }\n",
       "\n",
       "    .dataframe tbody tr th {\n",
       "        vertical-align: top;\n",
       "    }\n",
       "\n",
       "    .dataframe thead th {\n",
       "        text-align: right;\n",
       "    }\n",
       "</style>\n",
       "<table border=\"1\" class=\"dataframe\">\n",
       "  <thead>\n",
       "    <tr style=\"text-align: right;\">\n",
       "      <th></th>\n",
       "      <th>DriverNumber</th>\n",
       "      <th>BroadcastName</th>\n",
       "      <th>Time</th>\n",
       "      <th>Status</th>\n",
       "    </tr>\n",
       "  </thead>\n",
       "  <tbody>\n",
       "    <tr>\n",
       "      <th>1</th>\n",
       "      <td>1</td>\n",
       "      <td>M VERSTAPPEN</td>\n",
       "      <td>0 days 01:20:43.273000</td>\n",
       "      <td>Finished</td>\n",
       "    </tr>\n",
       "    <tr>\n",
       "      <th>11</th>\n",
       "      <td>11</td>\n",
       "      <td>S PEREZ</td>\n",
       "      <td>0 days 00:00:13.643100</td>\n",
       "      <td>Finished</td>\n",
       "    </tr>\n",
       "    <tr>\n",
       "      <th>16</th>\n",
       "      <td>16</td>\n",
       "      <td>C LECLERC</td>\n",
       "      <td>0 days 00:00:18.639000</td>\n",
       "      <td>Finished</td>\n",
       "    </tr>\n",
       "    <tr>\n",
       "      <th>81</th>\n",
       "      <td>81</td>\n",
       "      <td>O PIASTRI</td>\n",
       "      <td>0 days 00:00:32.007000</td>\n",
       "      <td>Finished</td>\n",
       "    </tr>\n",
       "    <tr>\n",
       "      <th>14</th>\n",
       "      <td>14</td>\n",
       "      <td>F ALONSO</td>\n",
       "      <td>0 days 00:00:35.759000</td>\n",
       "      <td>Finished</td>\n",
       "    </tr>\n",
       "    <tr>\n",
       "      <th>63</th>\n",
       "      <td>63</td>\n",
       "      <td>G RUSSELL</td>\n",
       "      <td>0 days 00:00:39.936000</td>\n",
       "      <td>Finished</td>\n",
       "    </tr>\n",
       "    <tr>\n",
       "      <th>38</th>\n",
       "      <td>38</td>\n",
       "      <td>O BEARMAN</td>\n",
       "      <td>0 days 00:00:42.679000</td>\n",
       "      <td>Finished</td>\n",
       "    </tr>\n",
       "    <tr>\n",
       "      <th>4</th>\n",
       "      <td>4</td>\n",
       "      <td>L NORRIS</td>\n",
       "      <td>0 days 00:00:45.708000</td>\n",
       "      <td>Finished</td>\n",
       "    </tr>\n",
       "    <tr>\n",
       "      <th>44</th>\n",
       "      <td>44</td>\n",
       "      <td>L HAMILTON</td>\n",
       "      <td>0 days 00:00:47.391000</td>\n",
       "      <td>Finished</td>\n",
       "    </tr>\n",
       "    <tr>\n",
       "      <th>27</th>\n",
       "      <td>27</td>\n",
       "      <td>N HULKENBERG</td>\n",
       "      <td>0 days 00:01:16.996000</td>\n",
       "      <td>Finished</td>\n",
       "    </tr>\n",
       "    <tr>\n",
       "      <th>23</th>\n",
       "      <td>23</td>\n",
       "      <td>A ALBON</td>\n",
       "      <td>0 days 00:01:28.354000</td>\n",
       "      <td>Finished</td>\n",
       "    </tr>\n",
       "    <tr>\n",
       "      <th>20</th>\n",
       "      <td>20</td>\n",
       "      <td>K MAGNUSSEN</td>\n",
       "      <td>0 days 00:01:45.737300</td>\n",
       "      <td>Finished</td>\n",
       "    </tr>\n",
       "    <tr>\n",
       "      <th>31</th>\n",
       "      <td>31</td>\n",
       "      <td>E OCON</td>\n",
       "      <td>NaT</td>\n",
       "      <td>+1 Lap</td>\n",
       "    </tr>\n",
       "    <tr>\n",
       "      <th>2</th>\n",
       "      <td>2</td>\n",
       "      <td>L SARGEANT</td>\n",
       "      <td>NaT</td>\n",
       "      <td>+1 Lap</td>\n",
       "    </tr>\n",
       "    <tr>\n",
       "      <th>22</th>\n",
       "      <td>22</td>\n",
       "      <td>Y TSUNODA</td>\n",
       "      <td>NaT</td>\n",
       "      <td>+1 Lap</td>\n",
       "    </tr>\n",
       "    <tr>\n",
       "      <th>3</th>\n",
       "      <td>3</td>\n",
       "      <td>D RICCIARDO</td>\n",
       "      <td>NaT</td>\n",
       "      <td>+1 Lap</td>\n",
       "    </tr>\n",
       "    <tr>\n",
       "      <th>77</th>\n",
       "      <td>77</td>\n",
       "      <td>V BOTTAS</td>\n",
       "      <td>NaT</td>\n",
       "      <td>+1 Lap</td>\n",
       "    </tr>\n",
       "    <tr>\n",
       "      <th>24</th>\n",
       "      <td>24</td>\n",
       "      <td>G ZHOU</td>\n",
       "      <td>NaT</td>\n",
       "      <td>+1 Lap</td>\n",
       "    </tr>\n",
       "    <tr>\n",
       "      <th>18</th>\n",
       "      <td>18</td>\n",
       "      <td>L STROLL</td>\n",
       "      <td>NaT</td>\n",
       "      <td>Accident</td>\n",
       "    </tr>\n",
       "    <tr>\n",
       "      <th>10</th>\n",
       "      <td>10</td>\n",
       "      <td>P GASLY</td>\n",
       "      <td>NaT</td>\n",
       "      <td>Gearbox</td>\n",
       "    </tr>\n",
       "  </tbody>\n",
       "</table>\n",
       "</div>"
      ],
      "text/plain": [
       "   DriverNumber BroadcastName                   Time    Status\n",
       "1             1  M VERSTAPPEN 0 days 01:20:43.273000  Finished\n",
       "11           11       S PEREZ 0 days 00:00:13.643100  Finished\n",
       "16           16     C LECLERC 0 days 00:00:18.639000  Finished\n",
       "81           81     O PIASTRI 0 days 00:00:32.007000  Finished\n",
       "14           14      F ALONSO 0 days 00:00:35.759000  Finished\n",
       "63           63     G RUSSELL 0 days 00:00:39.936000  Finished\n",
       "38           38     O BEARMAN 0 days 00:00:42.679000  Finished\n",
       "4             4      L NORRIS 0 days 00:00:45.708000  Finished\n",
       "44           44    L HAMILTON 0 days 00:00:47.391000  Finished\n",
       "27           27  N HULKENBERG 0 days 00:01:16.996000  Finished\n",
       "23           23       A ALBON 0 days 00:01:28.354000  Finished\n",
       "20           20   K MAGNUSSEN 0 days 00:01:45.737300  Finished\n",
       "31           31        E OCON                    NaT    +1 Lap\n",
       "2             2    L SARGEANT                    NaT    +1 Lap\n",
       "22           22     Y TSUNODA                    NaT    +1 Lap\n",
       "3             3   D RICCIARDO                    NaT    +1 Lap\n",
       "77           77      V BOTTAS                    NaT    +1 Lap\n",
       "24           24        G ZHOU                    NaT    +1 Lap\n",
       "18           18      L STROLL                    NaT  Accident\n",
       "10           10       P GASLY                    NaT   Gearbox"
      ]
     },
     "execution_count": 73,
     "metadata": {},
     "output_type": "execute_result"
    }
   ],
   "source": [
    "results = results[['DriverNumber','BroadcastName','Time', 'Status']]\n",
    "results"
   ]
  },
  {
   "cell_type": "code",
   "execution_count": 72,
   "metadata": {},
   "outputs": [],
   "source": [
    "#results['Time'].astype(str).str.replace('0 days', '').str.replace('00:00:','+')"
   ]
  },
  {
   "cell_type": "code",
   "execution_count": null,
   "metadata": {},
   "outputs": [],
   "source": [
    "pd.to_datetime"
   ]
  }
 ],
 "metadata": {
  "kernelspec": {
   "display_name": ".venv",
   "language": "python",
   "name": "python3"
  },
  "language_info": {
   "codemirror_mode": {
    "name": "ipython",
    "version": 3
   },
   "file_extension": ".py",
   "mimetype": "text/x-python",
   "name": "python",
   "nbconvert_exporter": "python",
   "pygments_lexer": "ipython3",
   "version": "3.10.7"
  }
 },
 "nbformat": 4,
 "nbformat_minor": 2
}
